{
 "cells": [
  {
   "cell_type": "code",
   "execution_count": 2,
   "metadata": {},
   "outputs": [],
   "source": [
    "from selenium import webdriver\n",
    "from selenium.webdriver.common.by import By\n",
    "from selenium.webdriver.support import expected_conditions as EC\n",
    "from selenium.webdriver.support.ui import WebDriverWait\n",
    "from time import sleep\n",
    "import pandas as pd"
   ]
  },
  {
   "cell_type": "code",
   "execution_count": 3,
   "metadata": {},
   "outputs": [],
   "source": [
    "names = []\n",
    "prices = []\n",
    "urls = []"
   ]
  },
  {
   "cell_type": "code",
   "execution_count": 4,
   "metadata": {},
   "outputs": [],
   "source": [
    "with webdriver.Chrome() as webpage:\n",
    "    webpage.get('https://lista.mercadolivre.com.br/iphone#D[A:iphone]')\n",
    "    \n",
    "    ol = WebDriverWait(webpage, 10).until(\n",
    "        EC.presence_of_element_located((By.XPATH, '//*[@id=\"root-app\"]/div/div[3]/section/ol'))\n",
    "    )\n",
    "    \n",
    "    for _ in range(6):\n",
    "        webpage.execute_script('window.scrollTo(0,document.body.scrollHeight);')\n",
    "\n",
    "        lis = WebDriverWait(webpage, 10).until(\n",
    "            EC.presence_of_all_elements_located((By.XPATH, '//*[@id=\"root-app\"]/div/div[3]/section/ol/li'))\n",
    "        )\n",
    "\n",
    "        for li in lis:\n",
    "            name = li.find_element(By.XPATH, './/h2[contains(@class, \"ui-search-item__title\")]')\n",
    "            names.append(name.text)\n",
    "            price = li.find_element(By.XPATH, './/span[2][contains(@class, \"andes-money-amount__fraction\")]')\n",
    "            prices.append(price.text)\n",
    "            url = li.find_element(By.XPATH, './/a[1][contains(@class, \"ui-search-link\")]').get_attribute('href')\n",
    "            urls.append(url)\n",
    "            sleep(0.2)\n",
    "            \n",
    "        next_page_button = WebDriverWait(webpage, 10).until(\n",
    "            EC.element_to_be_clickable((By.XPATH, '//*[@id=\"root-app\"]/div/div[3]/section/nav/ul/li[last()]/a'))\n",
    "        )\n",
    "        next_page_button.click()\n",
    "        sleep(2)"
   ]
  },
  {
   "cell_type": "code",
   "execution_count": 6,
   "metadata": {},
   "outputs": [],
   "source": [
    "handled_prices = []\n",
    "for price in prices:\n",
    "    handled_prices.append(int(price.replace('.','')))"
   ]
  },
  {
   "cell_type": "code",
   "execution_count": 7,
   "metadata": {},
   "outputs": [],
   "source": [
    "ml_analysis_df = pd.DataFrame(data=[names, handled_prices, urls]).T\n",
    "ml_analysis_df.columns = ['title', 'price', 'link']"
   ]
  },
  {
   "cell_type": "code",
   "execution_count": 8,
   "metadata": {},
   "outputs": [
    {
     "data": {
      "text/html": [
       "<div>\n",
       "<style scoped>\n",
       "    .dataframe tbody tr th:only-of-type {\n",
       "        vertical-align: middle;\n",
       "    }\n",
       "\n",
       "    .dataframe tbody tr th {\n",
       "        vertical-align: top;\n",
       "    }\n",
       "\n",
       "    .dataframe thead th {\n",
       "        text-align: right;\n",
       "    }\n",
       "</style>\n",
       "<table border=\"1\" class=\"dataframe\">\n",
       "  <thead>\n",
       "    <tr style=\"text-align: right;\">\n",
       "      <th></th>\n",
       "      <th>title</th>\n",
       "      <th>price</th>\n",
       "      <th>link</th>\n",
       "    </tr>\n",
       "  </thead>\n",
       "  <tbody>\n",
       "    <tr>\n",
       "      <th>0</th>\n",
       "      <td>Apple iPhone 14 (128 GB) - Estelar - Distribui...</td>\n",
       "      <td>5499</td>\n",
       "      <td>https://www.mercadolivre.com.br/apple-iphone-1...</td>\n",
       "    </tr>\n",
       "    <tr>\n",
       "      <th>1</th>\n",
       "      <td>Apple iPhone 13 (128 GB) - Estelar - Distribui...</td>\n",
       "      <td>7599</td>\n",
       "      <td>https://www.mercadolivre.com.br/apple-iphone-1...</td>\n",
       "    </tr>\n",
       "    <tr>\n",
       "      <th>2</th>\n",
       "      <td>Apple iPhone 13 (128 GB) Meia-noite - Distribu...</td>\n",
       "      <td>7599</td>\n",
       "      <td>https://www.mercadolivre.com.br/apple-iphone-1...</td>\n",
       "    </tr>\n",
       "    <tr>\n",
       "      <th>3</th>\n",
       "      <td>Apple iPhone 14 (128 GB) - Meia noite</td>\n",
       "      <td>5499</td>\n",
       "      <td>https://www.mercadolivre.com.br/apple-iphone-1...</td>\n",
       "    </tr>\n",
       "    <tr>\n",
       "      <th>4</th>\n",
       "      <td>Apple iPhone 15 (128 GB) - Preto - Distribuido...</td>\n",
       "      <td>5319</td>\n",
       "      <td>https://www.mercadolivre.com.br/apple-iphone-1...</td>\n",
       "    </tr>\n",
       "    <tr>\n",
       "      <th>5</th>\n",
       "      <td>Apple iPhone 14 Plus (128 Gb) - Estelar - Dist...</td>\n",
       "      <td>4670</td>\n",
       "      <td>https://www.mercadolivre.com.br/apple-iphone-1...</td>\n",
       "    </tr>\n",
       "    <tr>\n",
       "      <th>6</th>\n",
       "      <td>Apple iPhone 14 (128 GB) - Roxo - Distribuidor...</td>\n",
       "      <td>5499</td>\n",
       "      <td>https://www.mercadolivre.com.br/apple-iphone-1...</td>\n",
       "    </tr>\n",
       "    <tr>\n",
       "      <th>7</th>\n",
       "      <td>Apple iPhone 12 (128 GB) - Preto - Distribuido...</td>\n",
       "      <td>3999</td>\n",
       "      <td>https://www.mercadolivre.com.br/apple-iphone-1...</td>\n",
       "    </tr>\n",
       "    <tr>\n",
       "      <th>8</th>\n",
       "      <td>Apple iPhone 14 Plus (128 GB) - Meia-noite - D...</td>\n",
       "      <td>4670</td>\n",
       "      <td>https://www.mercadolivre.com.br/apple-iphone-1...</td>\n",
       "    </tr>\n",
       "    <tr>\n",
       "      <th>9</th>\n",
       "      <td>Apple iPhone 15 (128 GB) - Amarelo - Distribui...</td>\n",
       "      <td>7438</td>\n",
       "      <td>https://www.mercadolivre.com.br/apple-iphone-1...</td>\n",
       "    </tr>\n",
       "  </tbody>\n",
       "</table>\n",
       "</div>"
      ],
      "text/plain": [
       "                                               title price  \\\n",
       "0  Apple iPhone 14 (128 GB) - Estelar - Distribui...  5499   \n",
       "1  Apple iPhone 13 (128 GB) - Estelar - Distribui...  7599   \n",
       "2  Apple iPhone 13 (128 GB) Meia-noite - Distribu...  7599   \n",
       "3              Apple iPhone 14 (128 GB) - Meia noite  5499   \n",
       "4  Apple iPhone 15 (128 GB) - Preto - Distribuido...  5319   \n",
       "5  Apple iPhone 14 Plus (128 Gb) - Estelar - Dist...  4670   \n",
       "6  Apple iPhone 14 (128 GB) - Roxo - Distribuidor...  5499   \n",
       "7  Apple iPhone 12 (128 GB) - Preto - Distribuido...  3999   \n",
       "8  Apple iPhone 14 Plus (128 GB) - Meia-noite - D...  4670   \n",
       "9  Apple iPhone 15 (128 GB) - Amarelo - Distribui...  7438   \n",
       "\n",
       "                                                link  \n",
       "0  https://www.mercadolivre.com.br/apple-iphone-1...  \n",
       "1  https://www.mercadolivre.com.br/apple-iphone-1...  \n",
       "2  https://www.mercadolivre.com.br/apple-iphone-1...  \n",
       "3  https://www.mercadolivre.com.br/apple-iphone-1...  \n",
       "4  https://www.mercadolivre.com.br/apple-iphone-1...  \n",
       "5  https://www.mercadolivre.com.br/apple-iphone-1...  \n",
       "6  https://www.mercadolivre.com.br/apple-iphone-1...  \n",
       "7  https://www.mercadolivre.com.br/apple-iphone-1...  \n",
       "8  https://www.mercadolivre.com.br/apple-iphone-1...  \n",
       "9  https://www.mercadolivre.com.br/apple-iphone-1...  "
      ]
     },
     "execution_count": 8,
     "metadata": {},
     "output_type": "execute_result"
    }
   ],
   "source": [
    "ml_analysis_df.head(10)"
   ]
  },
  {
   "cell_type": "code",
   "execution_count": 9,
   "metadata": {},
   "outputs": [
    {
     "data": {
      "text/plain": [
       "title    0\n",
       "price    0\n",
       "link     0\n",
       "dtype: int64"
      ]
     },
     "execution_count": 9,
     "metadata": {},
     "output_type": "execute_result"
    }
   ],
   "source": [
    "ml_analysis_df.isna().sum()"
   ]
  },
  {
   "cell_type": "code",
   "execution_count": 10,
   "metadata": {},
   "outputs": [
    {
     "data": {
      "text/plain": [
       "(292, 3)"
      ]
     },
     "execution_count": 10,
     "metadata": {},
     "output_type": "execute_result"
    }
   ],
   "source": [
    "ml_analysis_df.shape"
   ]
  },
  {
   "cell_type": "code",
   "execution_count": 11,
   "metadata": {},
   "outputs": [],
   "source": [
    "ml_analysis_df.to_csv('ml_analysis_df.csv', index=False)"
   ]
  }
 ],
 "metadata": {
  "kernelspec": {
   "display_name": "Python 3",
   "language": "python",
   "name": "python3"
  },
  "language_info": {
   "codemirror_mode": {
    "name": "ipython",
    "version": 3
   },
   "file_extension": ".py",
   "mimetype": "text/x-python",
   "name": "python",
   "nbconvert_exporter": "python",
   "pygments_lexer": "ipython3",
   "version": "3.11.3"
  }
 },
 "nbformat": 4,
 "nbformat_minor": 2
}

{
 "cells": [
  {
   "cell_type": "code",
   "execution_count": 56,
   "metadata": {},
   "outputs": [],
   "source": [
    "import pandas as pd\n",
    "import pyautogui as pg\n",
    "import webbrowser"
   ]
  },
  {
   "cell_type": "code",
   "execution_count": 33,
   "metadata": {},
   "outputs": [],
   "source": [
    "string_types = {'XS': 16, 'XR': 17, 'SE': 18, 'X': 19}"
   ]
  },
  {
   "cell_type": "code",
   "execution_count": 34,
   "metadata": {},
   "outputs": [],
   "source": [
    "prices = pd.read_csv('minmax_pricesdf.csv')"
   ]
  },
  {
   "cell_type": "code",
   "execution_count": 35,
   "metadata": {},
   "outputs": [],
   "source": [
    "models = [3, 4, 5, 6, 'SE', 7, 8, 'X', 11, 12, 13, 14, 15, 'QUIT']"
   ]
  },
  {
   "cell_type": "code",
   "execution_count": 67,
   "metadata": {},
   "outputs": [
    {
     "name": "stdout",
     "output_type": "stream",
     "text": [
      "https://produto.mercadolivre.com.br/MLB-4484847216-iphone-3gs-usado-32gb-apple-orig-modelo-1303-ler-descrico-_JM?searchVariation=179952842028#searchVariation%3D179952842028%26position%3D32%26search_layout%3Dstack%26type%3Ditem%26tracking_id%3Db7365164-874c-4200-8bdd-8df8b50bb389\n"
     ]
    }
   ],
   "source": [
    "for i in prices.loc[prices['version'] == 3]['min_price'].values:\n",
    "    print(i[2:-2])"
   ]
  },
  {
   "cell_type": "code",
   "execution_count": 74,
   "metadata": {},
   "outputs": [],
   "source": [
    "while True:\n",
    "    option = pg.confirm('- -|                      SELECT DESIRED IPHONE MODEL                      |- -', buttons=models)\n",
    "\n",
    "    try:\n",
    "        option_int = int(option)\n",
    "        for i in prices.loc[prices['version'] == option_int]['min_price'].values:\n",
    "            r = pg.confirm(f'LINK: {i}', title='BEST PRICE IPHONE', buttons=['Go to Link', 'Cancel'])\n",
    "            if r == 'Go to Link':\n",
    "                webbrowser.open(i[2:-2])\n",
    "            else:\n",
    "                break\n",
    "    except ValueError:\n",
    "        if option != 'QUIT':\n",
    "            for i in prices.loc[prices['version'] == string_types[option]]['min_price'].values:\n",
    "                r = pg.confirm(f'LINK: {i}', title='BEST PRICE IPHONE', buttons=['Go to Link', 'Cancel'])\n",
    "                if r == 'Go to Link':\n",
    "                    webbrowser.open(i[2:-2])\n",
    "                else:\n",
    "                    break\n",
    "        else:\n",
    "            break"
   ]
  }
 ],
 "metadata": {
  "kernelspec": {
   "display_name": "Python 3",
   "language": "python",
   "name": "python3"
  },
  "language_info": {
   "codemirror_mode": {
    "name": "ipython",
    "version": 3
   },
   "file_extension": ".py",
   "mimetype": "text/x-python",
   "name": "python",
   "nbconvert_exporter": "python",
   "pygments_lexer": "ipython3",
   "version": "3.11.3"
  }
 },
 "nbformat": 4,
 "nbformat_minor": 2
}

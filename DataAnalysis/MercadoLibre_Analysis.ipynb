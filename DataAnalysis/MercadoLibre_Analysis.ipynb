{
 "cells": [
  {
   "cell_type": "code",
   "execution_count": 179,
   "metadata": {},
   "outputs": [],
   "source": [
    "import pandas as pd\n",
    "import matplotlib.pyplot as plt\n",
    "import seaborn as sns\n",
    "import re"
   ]
  },
  {
   "cell_type": "code",
   "execution_count": 180,
   "metadata": {},
   "outputs": [],
   "source": [
    "mercadodf = pd.read_csv('ml_analysis_df.csv')"
   ]
  },
  {
   "cell_type": "code",
   "execution_count": 181,
   "metadata": {},
   "outputs": [
    {
     "name": "stdout",
     "output_type": "stream",
     "text": [
      "<class 'pandas.core.frame.DataFrame'>\n",
      "RangeIndex: 292 entries, 0 to 291\n",
      "Data columns (total 3 columns):\n",
      " #   Column  Non-Null Count  Dtype \n",
      "---  ------  --------------  ----- \n",
      " 0   title   292 non-null    object\n",
      " 1   price   292 non-null    int64 \n",
      " 2   link    292 non-null    object\n",
      "dtypes: int64(1), object(2)\n",
      "memory usage: 7.0+ KB\n"
     ]
    }
   ],
   "source": [
    "mercadodf.info()"
   ]
  },
  {
   "cell_type": "code",
   "execution_count": 182,
   "metadata": {},
   "outputs": [
    {
     "data": {
      "text/html": [
       "<div>\n",
       "<style scoped>\n",
       "    .dataframe tbody tr th:only-of-type {\n",
       "        vertical-align: middle;\n",
       "    }\n",
       "\n",
       "    .dataframe tbody tr th {\n",
       "        vertical-align: top;\n",
       "    }\n",
       "\n",
       "    .dataframe thead th {\n",
       "        text-align: right;\n",
       "    }\n",
       "</style>\n",
       "<table border=\"1\" class=\"dataframe\">\n",
       "  <thead>\n",
       "    <tr style=\"text-align: right;\">\n",
       "      <th></th>\n",
       "      <th>title</th>\n",
       "      <th>price</th>\n",
       "      <th>link</th>\n",
       "    </tr>\n",
       "  </thead>\n",
       "  <tbody>\n",
       "    <tr>\n",
       "      <th>0</th>\n",
       "      <td>Apple iPhone 14 (128 GB) - Estelar - Distribui...</td>\n",
       "      <td>5499</td>\n",
       "      <td>https://www.mercadolivre.com.br/apple-iphone-1...</td>\n",
       "    </tr>\n",
       "    <tr>\n",
       "      <th>1</th>\n",
       "      <td>Apple iPhone 13 (128 GB) - Estelar - Distribui...</td>\n",
       "      <td>7599</td>\n",
       "      <td>https://www.mercadolivre.com.br/apple-iphone-1...</td>\n",
       "    </tr>\n",
       "    <tr>\n",
       "      <th>2</th>\n",
       "      <td>Apple iPhone 13 (128 GB) Meia-noite - Distribu...</td>\n",
       "      <td>7599</td>\n",
       "      <td>https://www.mercadolivre.com.br/apple-iphone-1...</td>\n",
       "    </tr>\n",
       "    <tr>\n",
       "      <th>3</th>\n",
       "      <td>Apple iPhone 14 (128 GB) - Meia noite</td>\n",
       "      <td>5499</td>\n",
       "      <td>https://www.mercadolivre.com.br/apple-iphone-1...</td>\n",
       "    </tr>\n",
       "    <tr>\n",
       "      <th>4</th>\n",
       "      <td>Apple iPhone 15 (128 GB) - Preto - Distribuido...</td>\n",
       "      <td>5319</td>\n",
       "      <td>https://www.mercadolivre.com.br/apple-iphone-1...</td>\n",
       "    </tr>\n",
       "    <tr>\n",
       "      <th>5</th>\n",
       "      <td>Apple iPhone 14 Plus (128 Gb) - Estelar - Dist...</td>\n",
       "      <td>4670</td>\n",
       "      <td>https://www.mercadolivre.com.br/apple-iphone-1...</td>\n",
       "    </tr>\n",
       "    <tr>\n",
       "      <th>6</th>\n",
       "      <td>Apple iPhone 14 (128 GB) - Roxo - Distribuidor...</td>\n",
       "      <td>5499</td>\n",
       "      <td>https://www.mercadolivre.com.br/apple-iphone-1...</td>\n",
       "    </tr>\n",
       "    <tr>\n",
       "      <th>7</th>\n",
       "      <td>Apple iPhone 12 (128 GB) - Preto - Distribuido...</td>\n",
       "      <td>3999</td>\n",
       "      <td>https://www.mercadolivre.com.br/apple-iphone-1...</td>\n",
       "    </tr>\n",
       "    <tr>\n",
       "      <th>8</th>\n",
       "      <td>Apple iPhone 14 Plus (128 GB) - Meia-noite - D...</td>\n",
       "      <td>4670</td>\n",
       "      <td>https://www.mercadolivre.com.br/apple-iphone-1...</td>\n",
       "    </tr>\n",
       "    <tr>\n",
       "      <th>9</th>\n",
       "      <td>Apple iPhone 15 (128 GB) - Amarelo - Distribui...</td>\n",
       "      <td>7438</td>\n",
       "      <td>https://www.mercadolivre.com.br/apple-iphone-1...</td>\n",
       "    </tr>\n",
       "  </tbody>\n",
       "</table>\n",
       "</div>"
      ],
      "text/plain": [
       "                                               title  price  \\\n",
       "0  Apple iPhone 14 (128 GB) - Estelar - Distribui...   5499   \n",
       "1  Apple iPhone 13 (128 GB) - Estelar - Distribui...   7599   \n",
       "2  Apple iPhone 13 (128 GB) Meia-noite - Distribu...   7599   \n",
       "3              Apple iPhone 14 (128 GB) - Meia noite   5499   \n",
       "4  Apple iPhone 15 (128 GB) - Preto - Distribuido...   5319   \n",
       "5  Apple iPhone 14 Plus (128 Gb) - Estelar - Dist...   4670   \n",
       "6  Apple iPhone 14 (128 GB) - Roxo - Distribuidor...   5499   \n",
       "7  Apple iPhone 12 (128 GB) - Preto - Distribuido...   3999   \n",
       "8  Apple iPhone 14 Plus (128 GB) - Meia-noite - D...   4670   \n",
       "9  Apple iPhone 15 (128 GB) - Amarelo - Distribui...   7438   \n",
       "\n",
       "                                                link  \n",
       "0  https://www.mercadolivre.com.br/apple-iphone-1...  \n",
       "1  https://www.mercadolivre.com.br/apple-iphone-1...  \n",
       "2  https://www.mercadolivre.com.br/apple-iphone-1...  \n",
       "3  https://www.mercadolivre.com.br/apple-iphone-1...  \n",
       "4  https://www.mercadolivre.com.br/apple-iphone-1...  \n",
       "5  https://www.mercadolivre.com.br/apple-iphone-1...  \n",
       "6  https://www.mercadolivre.com.br/apple-iphone-1...  \n",
       "7  https://www.mercadolivre.com.br/apple-iphone-1...  \n",
       "8  https://www.mercadolivre.com.br/apple-iphone-1...  \n",
       "9  https://www.mercadolivre.com.br/apple-iphone-1...  "
      ]
     },
     "execution_count": 182,
     "metadata": {},
     "output_type": "execute_result"
    }
   ],
   "source": [
    "mercadodf.head(10)"
   ]
  },
  {
   "cell_type": "code",
   "execution_count": 183,
   "metadata": {},
   "outputs": [],
   "source": [
    "model_mapping = {'XS': 16, 'XR': 17, 'SE': 18, 'X': 19}\n",
    "\n",
    "def extract_version(title):\n",
    "    for model, version in model_mapping.items():\n",
    "        if model in title.split(' '):\n",
    "            return version\n",
    "    \n",
    "    numbers = re.findall(r'\\d+', title)\n",
    "    \n",
    "    if numbers:\n",
    "        number = int(numbers[0])\n",
    "        if 2 < number < 16:\n",
    "            return number\n",
    "    return None\n"
   ]
  },
  {
   "cell_type": "code",
   "execution_count": 184,
   "metadata": {},
   "outputs": [],
   "source": [
    "mercadodf['iphone_version'] = mercadodf['title'].apply(extract_version)"
   ]
  },
  {
   "cell_type": "code",
   "execution_count": 185,
   "metadata": {},
   "outputs": [
    {
     "data": {
      "text/plain": [
       "array([ 3,  4,  5,  6,  7,  8, 11, 12, 13, 14, 15, 16, 17, 18, 19],\n",
       "      dtype=int64)"
      ]
     },
     "execution_count": 185,
     "metadata": {},
     "output_type": "execute_result"
    }
   ],
   "source": [
    "mercadodf['iphone_version'].sort_values().unique()"
   ]
  },
  {
   "cell_type": "code",
   "execution_count": 186,
   "metadata": {},
   "outputs": [
    {
     "data": {
      "text/html": [
       "<div>\n",
       "<style scoped>\n",
       "    .dataframe tbody tr th:only-of-type {\n",
       "        vertical-align: middle;\n",
       "    }\n",
       "\n",
       "    .dataframe tbody tr th {\n",
       "        vertical-align: top;\n",
       "    }\n",
       "\n",
       "    .dataframe thead th {\n",
       "        text-align: right;\n",
       "    }\n",
       "</style>\n",
       "<table border=\"1\" class=\"dataframe\">\n",
       "  <thead>\n",
       "    <tr style=\"text-align: right;\">\n",
       "      <th></th>\n",
       "      <th>price</th>\n",
       "      <th>iphone_version</th>\n",
       "    </tr>\n",
       "  </thead>\n",
       "  <tbody>\n",
       "    <tr>\n",
       "      <th>count</th>\n",
       "      <td>292.000000</td>\n",
       "      <td>292.000000</td>\n",
       "    </tr>\n",
       "    <tr>\n",
       "      <th>mean</th>\n",
       "      <td>4025.667808</td>\n",
       "      <td>12.688356</td>\n",
       "    </tr>\n",
       "    <tr>\n",
       "      <th>std</th>\n",
       "      <td>3397.343982</td>\n",
       "      <td>3.692958</td>\n",
       "    </tr>\n",
       "    <tr>\n",
       "      <th>min</th>\n",
       "      <td>69.000000</td>\n",
       "      <td>3.000000</td>\n",
       "    </tr>\n",
       "    <tr>\n",
       "      <th>25%</th>\n",
       "      <td>1326.000000</td>\n",
       "      <td>11.000000</td>\n",
       "    </tr>\n",
       "    <tr>\n",
       "      <th>50%</th>\n",
       "      <td>2999.000000</td>\n",
       "      <td>14.000000</td>\n",
       "    </tr>\n",
       "    <tr>\n",
       "      <th>75%</th>\n",
       "      <td>5863.000000</td>\n",
       "      <td>15.000000</td>\n",
       "    </tr>\n",
       "    <tr>\n",
       "      <th>max</th>\n",
       "      <td>24500.000000</td>\n",
       "      <td>19.000000</td>\n",
       "    </tr>\n",
       "  </tbody>\n",
       "</table>\n",
       "</div>"
      ],
      "text/plain": [
       "              price  iphone_version\n",
       "count    292.000000      292.000000\n",
       "mean    4025.667808       12.688356\n",
       "std     3397.343982        3.692958\n",
       "min       69.000000        3.000000\n",
       "25%     1326.000000       11.000000\n",
       "50%     2999.000000       14.000000\n",
       "75%     5863.000000       15.000000\n",
       "max    24500.000000       19.000000"
      ]
     },
     "execution_count": 186,
     "metadata": {},
     "output_type": "execute_result"
    }
   ],
   "source": [
    "mercadodf.describe()"
   ]
  },
  {
   "cell_type": "code",
   "execution_count": 187,
   "metadata": {},
   "outputs": [],
   "source": [
    "version_by_price = mercadodf.groupby('iphone_version')['price'].agg(['min', 'max']).sort_values(by='max', ascending=False)"
   ]
  },
  {
   "cell_type": "code",
   "execution_count": 188,
   "metadata": {},
   "outputs": [
    {
     "data": {
      "text/html": [
       "<div>\n",
       "<style scoped>\n",
       "    .dataframe tbody tr th:only-of-type {\n",
       "        vertical-align: middle;\n",
       "    }\n",
       "\n",
       "    .dataframe tbody tr th {\n",
       "        vertical-align: top;\n",
       "    }\n",
       "\n",
       "    .dataframe thead th {\n",
       "        text-align: right;\n",
       "    }\n",
       "</style>\n",
       "<table border=\"1\" class=\"dataframe\">\n",
       "  <thead>\n",
       "    <tr style=\"text-align: right;\">\n",
       "      <th></th>\n",
       "      <th>min</th>\n",
       "      <th>max</th>\n",
       "    </tr>\n",
       "    <tr>\n",
       "      <th>iphone_version</th>\n",
       "      <th></th>\n",
       "      <th></th>\n",
       "    </tr>\n",
       "  </thead>\n",
       "  <tbody>\n",
       "    <tr>\n",
       "      <th>13</th>\n",
       "      <td>1199</td>\n",
       "      <td>24500</td>\n",
       "    </tr>\n",
       "    <tr>\n",
       "      <th>15</th>\n",
       "      <td>4889</td>\n",
       "      <td>13559</td>\n",
       "    </tr>\n",
       "    <tr>\n",
       "      <th>14</th>\n",
       "      <td>4299</td>\n",
       "      <td>10589</td>\n",
       "    </tr>\n",
       "    <tr>\n",
       "      <th>3</th>\n",
       "      <td>339</td>\n",
       "      <td>5200</td>\n",
       "    </tr>\n",
       "    <tr>\n",
       "      <th>12</th>\n",
       "      <td>1899</td>\n",
       "      <td>5198</td>\n",
       "    </tr>\n",
       "    <tr>\n",
       "      <th>11</th>\n",
       "      <td>1789</td>\n",
       "      <td>3890</td>\n",
       "    </tr>\n",
       "    <tr>\n",
       "      <th>16</th>\n",
       "      <td>1419</td>\n",
       "      <td>3499</td>\n",
       "    </tr>\n",
       "    <tr>\n",
       "      <th>17</th>\n",
       "      <td>1279</td>\n",
       "      <td>2699</td>\n",
       "    </tr>\n",
       "    <tr>\n",
       "      <th>18</th>\n",
       "      <td>363</td>\n",
       "      <td>2589</td>\n",
       "    </tr>\n",
       "    <tr>\n",
       "      <th>19</th>\n",
       "      <td>1409</td>\n",
       "      <td>1800</td>\n",
       "    </tr>\n",
       "    <tr>\n",
       "      <th>8</th>\n",
       "      <td>818</td>\n",
       "      <td>1799</td>\n",
       "    </tr>\n",
       "    <tr>\n",
       "      <th>7</th>\n",
       "      <td>579</td>\n",
       "      <td>1498</td>\n",
       "    </tr>\n",
       "    <tr>\n",
       "      <th>5</th>\n",
       "      <td>69</td>\n",
       "      <td>1000</td>\n",
       "    </tr>\n",
       "    <tr>\n",
       "      <th>6</th>\n",
       "      <td>200</td>\n",
       "      <td>810</td>\n",
       "    </tr>\n",
       "    <tr>\n",
       "      <th>4</th>\n",
       "      <td>199</td>\n",
       "      <td>799</td>\n",
       "    </tr>\n",
       "  </tbody>\n",
       "</table>\n",
       "</div>"
      ],
      "text/plain": [
       "                 min    max\n",
       "iphone_version             \n",
       "13              1199  24500\n",
       "15              4889  13559\n",
       "14              4299  10589\n",
       "3                339   5200\n",
       "12              1899   5198\n",
       "11              1789   3890\n",
       "16              1419   3499\n",
       "17              1279   2699\n",
       "18               363   2589\n",
       "19              1409   1800\n",
       "8                818   1799\n",
       "7                579   1498\n",
       "5                 69   1000\n",
       "6                200    810\n",
       "4                199    799"
      ]
     },
     "execution_count": 188,
     "metadata": {},
     "output_type": "execute_result"
    }
   ],
   "source": [
    "version_by_price"
   ]
  },
  {
   "cell_type": "code",
   "execution_count": 189,
   "metadata": {},
   "outputs": [],
   "source": [
    "min_prices = []\n",
    "max_prices = []\n",
    "versions = []\n",
    "\n",
    "for version in version_by_price.index:\n",
    "    min_prices.append(mercadodf.loc[(mercadodf['iphone_version'] == version) & (mercadodf['price'] == version_by_price.loc[version]['min'])]['link'].values)\n",
    "    max_prices.append(mercadodf.loc[(mercadodf['iphone_version'] == version) & (mercadodf['price'] == version_by_price.loc[version]['max'])]['link'].values)\n",
    "    versions.append(version)"
   ]
  },
  {
   "cell_type": "code",
   "execution_count": 190,
   "metadata": {},
   "outputs": [],
   "source": [
    "minmax_pricesdf = pd.DataFrame(data=versions, columns=['version'])\n",
    "minmax_pricesdf['min_price'] = min_prices\n",
    "minmax_pricesdf['max_price'] = max_prices"
   ]
  },
  {
   "cell_type": "code",
   "execution_count": 191,
   "metadata": {},
   "outputs": [
    {
     "data": {
      "text/plain": [
       "array([array(['https://produto.mercadolivre.com.br/MLB-3741163937-vitrine-iphone-12-mini-64gb-blue-5g-_JM?searchVariation=180734340728#searchVariation%3D180734340728%26position%3D29%26search_layout%3Dstack%26type%3Ditem%26tracking_id%3D20b99de1-0bd1-4d52-9160-31a4498d06fe'],\n",
       "             dtype=object)                                                                                                                                                                                                                                                         ],\n",
       "      dtype=object)"
      ]
     },
     "execution_count": 191,
     "metadata": {},
     "output_type": "execute_result"
    }
   ],
   "source": [
    "minmax_pricesdf[minmax_pricesdf['version'] == 12]['min_price'].values"
   ]
  },
  {
   "cell_type": "code",
   "execution_count": 192,
   "metadata": {},
   "outputs": [],
   "source": [
    "minmax_pricesdf.to_csv('minmax_pricesdf.csv', index=False)"
   ]
  }
 ],
 "metadata": {
  "kernelspec": {
   "display_name": "Python 3",
   "language": "python",
   "name": "python3"
  },
  "language_info": {
   "codemirror_mode": {
    "name": "ipython",
    "version": 3
   },
   "file_extension": ".py",
   "mimetype": "text/x-python",
   "name": "python",
   "nbconvert_exporter": "python",
   "pygments_lexer": "ipython3",
   "version": "3.11.3"
  }
 },
 "nbformat": 4,
 "nbformat_minor": 2
}
